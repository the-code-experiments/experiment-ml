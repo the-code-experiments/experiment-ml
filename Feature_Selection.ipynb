{
 "cells": [
  {
   "cell_type": "markdown",
   "metadata": {},
   "source": [
    "# Feature selection\n",
    "\n",
    "What is feature selection?\n",
    "\n",
    "* Feature or variable selection is the process of selecting a subset of relevant features from a total features available in a dataset to build ML algorithms.\n",
    "\n",
    "Why should we select features?\n",
    "\n",
    "* Its easy to understand the output which uses 10 variables as compare to 100 variables. Thus, simple models are easier to interpret.\n",
    "* Shorter training times.\n",
    "* Reduce the risk of data errors during model use.\n",
    "* Reduce the variable redundancy. Exclude co-related variables.\n",
    "* Bad learning behaviour in high dimensional space."
   ]
  },
  {
   "cell_type": "markdown",
   "metadata": {},
   "source": [
    "## Feature selection methods\n",
    "\n",
    "1. Filter methods\n",
    "2. Wrapper methods\n",
    "3. Embedded methods"
   ]
  },
  {
   "cell_type": "markdown",
   "metadata": {},
   "source": [
    "### Wrapper methods\n",
    "\n",
    "* Use predictive ML models to score the feature subset.\n",
    "* Train a new model on each feature subset.\n",
    "* Tend to be very computationally expensive.\n",
    "* They may not produce the best feature combination for a different ML model.\n"
   ]
  },
  {
   "cell_type": "markdown",
   "metadata": {},
   "source": [
    "### Embedded methods\n",
    "\n",
    "* Perform feature selection as part of the model construction process.\n",
    "* Consider the interaction between features and models.\n",
    "* They are less computationally expensive than wrapper methods, because they fit the ML model only once."
   ]
  },
  {
   "cell_type": "code",
   "execution_count": null,
   "metadata": {},
   "outputs": [],
   "source": []
  }
 ],
 "metadata": {
  "kernelspec": {
   "display_name": "Python 3",
   "language": "python",
   "name": "python3"
  },
  "language_info": {
   "codemirror_mode": {
    "name": "ipython",
    "version": 3
   },
   "file_extension": ".py",
   "mimetype": "text/x-python",
   "name": "python",
   "nbconvert_exporter": "python",
   "pygments_lexer": "ipython3",
   "version": "3.6.0"
  }
 },
 "nbformat": 4,
 "nbformat_minor": 2
}
